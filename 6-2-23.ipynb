{
 "cells": [
  {
   "cell_type": "code",
   "execution_count": 1,
   "metadata": {},
   "outputs": [
    {
     "name": "stdout",
     "output_type": "stream",
     "text": [
      "Flat List:  [1, 2, 3, 4, 44, 55, 66, 34, 56, 78, 89, 34, 1, 2, 3, 1, 4, 34, 55, 67, 78, 89, 45, 22, 61, 34, 56]\n",
      "Product of all the numbers:  4134711838987085478833841242112000\n"
     ]
    }
   ],
   "source": [
    "def flat_func(given_collection):\n",
    "    flat_list=[]\n",
    "    for each_element in given_collection:\n",
    "        if type(each_element)==int or type(each_element)==float:\n",
    "            flat_list.append(each_element)\n",
    "        elif type(each_element)==list or type(each_element)==set or type(each_element)==tuple:\n",
    "            flat_list.extend(flat_func(each_element))\n",
    "        elif type(each_element)==dict:\n",
    "            for each_nested_element in each_element.keys():\n",
    "                if type(each_nested_element)==int or type(each_nested_element)==float:\n",
    "                    flat_list.append(each_nested_element)\n",
    "            for each_nested_element in each_element.values():\n",
    "                if type(each_nested_element)==int or type(each_nested_element)==float:\n",
    "                    flat_list.append(each_nested_element)\n",
    "                elif type(each_nested_element)==list or type(each_nested_element)==tuple or type(each_nested_element)==set:\n",
    "                    flat_list.extend(flat_func(each_nested_element))\n",
    "            \n",
    "    return flat_list\n",
    "given_list = [1,2,3,4,[44,55,66,True],False,(34,56,78,89,34),{1,2,3,3,2,1},{1:34,'key2':[55,67,78,89],4:(45,22,61,34)},[56,'data science'],'Machine Learning']\n",
    "\n",
    "flat_list=flat_func(given_list)\n",
    "\n",
    "result = 1\n",
    "for each_element in flat_list:\n",
    "    result = result*each_element\n",
    "\n",
    "print('Flat List: ', flat_list)\n",
    "print('Product of all the numbers: ',result)"
   ]
  },
  {
   "cell_type": "code",
   "execution_count": 2,
   "metadata": {},
   "outputs": [
    {
     "name": "stdout",
     "output_type": "stream",
     "text": [
      "r$dzmg$gl$yvxlnv$z$wzgz$hxrvmgrhg\n"
     ]
    }
   ],
   "source": [
    "#2\n",
    "def encrypt_message(string):\n",
    "    \"\"\"\n",
    "    This function encrypts input string\n",
    "    \"\"\"\n",
    "    string = string.lower()\n",
    "    trans_letters = str.maketrans('abcdefghijklmnopqrstuvwxyz','zyxwvutsrqponmlkjihgfedcba')\n",
    "    encrypted_string = string.translate(trans_letters)\n",
    "    encrypted_string = encrypted_string.replace(' ', '$')\n",
    "    return encrypted_string\n",
    "\n",
    "string = 'I want to become a Data Scientist'\n",
    "print(encrypt_message(string))"
   ]
  },
  {
   "cell_type": "code",
   "execution_count": null,
   "metadata": {},
   "outputs": [],
   "source": []
  }
 ],
 "metadata": {
  "kernelspec": {
   "display_name": "Python 3",
   "language": "python",
   "name": "python3"
  },
  "language_info": {
   "codemirror_mode": {
    "name": "ipython",
    "version": 3
   },
   "file_extension": ".py",
   "mimetype": "text/x-python",
   "name": "python",
   "nbconvert_exporter": "python",
   "pygments_lexer": "ipython3",
   "version": "3.11.1"
  },
  "orig_nbformat": 4,
  "vscode": {
   "interpreter": {
    "hash": "11acd7882bca9225263177cf7f1a77d85f722c62499040cb9580d92def4bac97"
   }
  }
 },
 "nbformat": 4,
 "nbformat_minor": 2
}
