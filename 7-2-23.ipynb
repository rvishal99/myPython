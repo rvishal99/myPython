{
 "cells": [
  {
   "cell_type": "code",
   "execution_count": 1,
   "metadata": {},
   "outputs": [],
   "source": [
    "import re\n",
    "\n",
    "def password_validator(password):\n",
    "    \"\"\"\n",
    "    This function checks the validity of a password\n",
    "    \"\"\"\n",
    "    special_chars ='[@_!#$%^&*()<>?/\\|}{~:]'\n",
    "    count_upper_chars=0\n",
    "    count_lower_chars=0\n",
    "    count_numerics=0\n",
    "    count_special_chars=0\n",
    "\n",
    "    for each_letter in password:\n",
    "        if each_letter.isupper()==True:\n",
    "            count_upper_chars+=1\n",
    "        if each_letter.islower()==True:\n",
    "            count_lower_chars+=1\n",
    "        if each_letter.isnumeric()==True:\n",
    "            count_numerics+=1\n",
    "        if each_letter in special_chars:\n",
    "            count_special_chars+=1\n",
    "\n",
    "    if count_upper_chars>=2 and count_lower_chars>=2 and count_numerics>=1 and count_special_chars>=3 and len(password)>=10:\n",
    "        print('Valid Password')\n",
    "    else:\n",
    "        print('Invalid Password\\n')\n",
    "        print(f\"Number of upper-case letters in password: {count_upper_chars}\")\n",
    "        print(f\"Number of lower-case letters in password: {count_lower_chars}\")\n",
    "        print(f\"Number of numeric letters in password: {count_numerics}\")\n",
    "        print(f\"Number of special characters in password: {count_special_chars}\")\n",
    "        print(f\"Length of password: {len(password)}\")\n",
    "\n"
   ]
  },
  {
   "cell_type": "code",
   "execution_count": 2,
   "metadata": {},
   "outputs": [
    {
     "name": "stdout",
     "output_type": "stream",
     "text": [
      "Invalid Password\n",
      "\n",
      "Number of upper-case letters in password: 0\n",
      "Number of lower-case letters in password: 14\n",
      "Number of numeric letters in password: 0\n",
      "Number of special characters in password: 0\n",
      "Length of password: 14\n"
     ]
    }
   ],
   "source": [
    "password = input(\"Enter Password: \")\n",
    "password_validator(password) \n",
    "#password entered: ShouldReturn**False"
   ]
  },
  {
   "cell_type": "code",
   "execution_count": 3,
   "metadata": {},
   "outputs": [
    {
     "name": "stdout",
     "output_type": "stream",
     "text": [
      "String starts with particular letter:  True\n"
     ]
    }
   ],
   "source": [
    "#2\n",
    "\n",
    "particular_letter='&'\n",
    "string = input('Enter String: ')\n",
    "response = True if string.startswith(particular_letter)==True else False\n",
    "print(\"String starts with particular letter: \",response)"
   ]
  },
  {
   "cell_type": "code",
   "execution_count": 4,
   "metadata": {},
   "outputs": [
    {
     "name": "stdout",
     "output_type": "stream",
     "text": [
      "String is numeric:  True\n"
     ]
    }
   ],
   "source": [
    "string = input('Enter String: ')\n",
    "response = True if string.isnumeric()==True else False\n",
    "print('String is numeric: ', response)\n",
    "#Entered String: 46373837846"
   ]
  },
  {
   "cell_type": "code",
   "execution_count": 5,
   "metadata": {},
   "outputs": [
    {
     "data": {
      "text/plain": [
       "[('orange', 80), ('mango', 99), ('grapes', 1000)]"
      ]
     },
     "execution_count": 5,
     "metadata": {},
     "output_type": "execute_result"
    }
   ],
   "source": [
    "list_of_tuples = [('mango',99),('orange',80),('grapes',1000)]\n",
    "sorted(list_of_tuples, key=lambda x: x[1])"
   ]
  },
  {
   "cell_type": "code",
   "execution_count": 6,
   "metadata": {},
   "outputs": [
    {
     "data": {
      "text/plain": [
       "[0, 1, 4, 9, 16, 25, 36, 49, 64, 81, 100]"
      ]
     },
     "execution_count": 6,
     "metadata": {},
     "output_type": "execute_result"
    }
   ],
   "source": [
    "list_of_nums = list(range(11))\n",
    "list(map(lambda input_list: input_list**2, list_of_nums))"
   ]
  },
  {
   "cell_type": "code",
   "execution_count": 7,
   "metadata": {},
   "outputs": [
    {
     "data": {
      "text/plain": [
       "[0.0,\n",
       " 1.0,\n",
       " 1.2599210498948732,\n",
       " 1.4422495703074083,\n",
       " 1.5874010519681994,\n",
       " 1.7099759466766968,\n",
       " 1.8171205928321397,\n",
       " 1.912931182772389,\n",
       " 2.0,\n",
       " 2.080083823051904,\n",
       " 2.154434690031884]"
      ]
     },
     "execution_count": 7,
     "metadata": {},
     "output_type": "execute_result"
    }
   ],
   "source": [
    "list_of_nums = list(range(11))\n",
    "list(map(lambda input_list: input_list** (1/3), list_of_nums))"
   ]
  },
  {
   "cell_type": "code",
   "execution_count": 8,
   "metadata": {},
   "outputs": [
    {
     "data": {
      "text/plain": [
       "[True, False, True, False, True, False, True, False, True, False, True]"
      ]
     },
     "execution_count": 8,
     "metadata": {},
     "output_type": "execute_result"
    }
   ],
   "source": [
    "given_numbers=list(range(11))\n",
    "list(map(lambda input_list:True if input_list%2==0 else False, given_numbers))"
   ]
  },
  {
   "cell_type": "code",
   "execution_count": 9,
   "metadata": {},
   "outputs": [
    {
     "data": {
      "text/plain": [
       "[1, 3, 5, 7, 9]"
      ]
     },
     "execution_count": 9,
     "metadata": {},
     "output_type": "execute_result"
    }
   ],
   "source": [
    "list_of_nums=list(range(11))\n",
    "list(filter(lambda input_list:input_list%2!=0, list_of_nums))"
   ]
  },
  {
   "cell_type": "code",
   "execution_count": 10,
   "metadata": {},
   "outputs": [
    {
     "name": "stdout",
     "output_type": "stream",
     "text": [
      "[1, 2, 3, 4, 5, 6, 0] [-1, -2, -3, -4, -5]\n"
     ]
    }
   ],
   "source": [
    "given_list = [1,2,3,4,5,6,-1,-2,-3,-4,-5,0]\n",
    "\n",
    "pos_list=[each_element for each_element in given_list if each_element>=0]\n",
    "neg_list=[each_element for each_element in given_list if each_element<0]\n",
    "print(pos_list,neg_list)\n"
   ]
  },
  {
   "cell_type": "code",
   "execution_count": null,
   "metadata": {},
   "outputs": [],
   "source": []
  }
 ],
 "metadata": {
  "kernelspec": {
   "display_name": "Python 3",
   "language": "python",
   "name": "python3"
  },
  "language_info": {
   "codemirror_mode": {
    "name": "ipython",
    "version": 3
   },
   "file_extension": ".py",
   "mimetype": "text/x-python",
   "name": "python",
   "nbconvert_exporter": "python",
   "pygments_lexer": "ipython3",
   "version": "3.11.1"
  },
  "orig_nbformat": 4,
  "vscode": {
   "interpreter": {
    "hash": "11acd7882bca9225263177cf7f1a77d85f722c62499040cb9580d92def4bac97"
   }
  }
 },
 "nbformat": 4,
 "nbformat_minor": 2
}
