{
 "cells": [
  {
   "cell_type": "code",
   "execution_count": 1,
   "metadata": {},
   "outputs": [
    {
     "data": {
      "text/plain": [
       "'Database: A database is a software application that allows you to store, organize, and retrieve data. It is a structured collection of data that can be accessed, managed, and updated in various ways. Databases are essential for managing and processing large volumes of data in various industries, such as finance, healthcare, e-commerce, and more.\\n\\nSQL (Structured Query Language) and NoSQL (Not Only SQL) are two different types of databases.\\n\\n**SQL Databases:** SQL databases are relational databases, which means that they use a tabular structure with rows and columns to store data. SQL databases have a fixed schema, meaning that the structure of the data is defined beforehand, and the data must conform to that structure. Examples of SQL databases include MySQL, Oracle, and PostgreSQL.\\n\\n**NoSQL Databases:** NoSQL databases, on the other hand, are non-relational databases that do not use the traditional table-based schema. NoSQL databases are schema-less, meaning that data can be added to the database without defining the structure beforehand. Instead, NoSQL databases use various data models, such as key-value, document, graph, or column-family. Examples of NoSQL databases include MongoDB, Cassandra, and Redis.\\n'"
      ]
     },
     "execution_count": 1,
     "metadata": {},
     "output_type": "execute_result"
    }
   ],
   "source": [
    "'''1 Answer:'''\n",
    "\n",
    "'''Database: A database is a software application that allows you to store, organize, and retrieve data. It is a structured collection of data that can be accessed, managed, and updated in various ways. Databases are essential for managing and processing large volumes of data in various industries, such as finance, healthcare, e-commerce, and more.\n",
    "\n",
    "SQL (Structured Query Language) and NoSQL (Not Only SQL) are two different types of databases.\n",
    "\n",
    "**SQL Databases:** SQL databases are relational databases, which means that they use a tabular structure with rows and columns to store data. SQL databases have a fixed schema, meaning that the structure of the data is defined beforehand, and the data must conform to that structure. Examples of SQL databases include MySQL, Oracle, and PostgreSQL.\n",
    "\n",
    "**NoSQL Databases:** NoSQL databases, on the other hand, are non-relational databases that do not use the traditional table-based schema. NoSQL databases are schema-less, meaning that data can be added to the database without defining the structure beforehand. Instead, NoSQL databases use various data models, such as key-value, document, graph, or column-family. Examples of NoSQL databases include MongoDB, Cassandra, and Redis.\n",
    "'''"
   ]
  },
  {
   "cell_type": "code",
   "execution_count": 2,
   "metadata": {},
   "outputs": [
    {
     "data": {
      "text/plain": [
       "'\\n**DDL:** DDL stands for Data Definition Language, and it is a subset of SQL that is used to define and manage the structure of a database. DDL statements are used to create, modify, and delete database objects such as tables, views, indexes, and stored procedures. Some of the commonly used statements are:\\n\\n1. **CREATE:** The CREATE statement is used to create a new database object, such as a table or view. For example, the following statement creates a new table called \"employees\" with four columns:\\n\\n#SQL\\nCREATE TABLE employees (\\n  id INT PRIMARY KEY,\\n  name VARCHAR(50),\\n  age INT,\\n  salary DECIMAL(10, 2)\\n);\\n\\n2. **DROP:** The DROP statement is used to remove an existing database object. For example, the following statement drops the \"employees\" table:\\n#SQL\\nDROP TABLE employees;\\n\\n3. **ALTER:** The ALTER statement is used to modify the structure of an existing database object, such as a table. For example, the following statement adds a new column called \"department\" to the \"employees\" table:\\n\\n#SQL\\nALTER TABLE employees ADD COLUMN department VARCHAR(50);\\n\\n\\n4. **TRUNCATE:** The TRUNCATE statement is used to remove all data from an existing table, but it does not remove the table structure. For example, the following statement removes all data from the \"employees\" table:\\n\\n#SQL\\nTRUNCATE TABLE employees;\\n\\n'"
      ]
     },
     "execution_count": 2,
     "metadata": {},
     "output_type": "execute_result"
    }
   ],
   "source": [
    "## 2 Answer:\n",
    "\n",
    "'''\n",
    "**DDL:** DDL stands for Data Definition Language, and it is a subset of SQL that is used to define and manage the structure of a database. DDL statements are used to create, modify, and delete database objects such as tables, views, indexes, and stored procedures. Some of the commonly used statements are:\n",
    "\n",
    "1. **CREATE:** The CREATE statement is used to create a new database object, such as a table or view. For example, the following statement creates a new table called \"employees\" with four columns:\n",
    "\n",
    "#SQL\n",
    "CREATE TABLE employees (\n",
    "  id INT PRIMARY KEY,\n",
    "  name VARCHAR(50),\n",
    "  age INT,\n",
    "  salary DECIMAL(10, 2)\n",
    ");\n",
    "\n",
    "2. **DROP:** The DROP statement is used to remove an existing database object. For example, the following statement drops the \"employees\" table:\n",
    "#SQL\n",
    "DROP TABLE employees;\n",
    "\n",
    "3. **ALTER:** The ALTER statement is used to modify the structure of an existing database object, such as a table. For example, the following statement adds a new column called \"department\" to the \"employees\" table:\n",
    "\n",
    "#SQL\n",
    "ALTER TABLE employees ADD COLUMN department VARCHAR(50);\n",
    "\n",
    "\n",
    "4. **TRUNCATE:** The TRUNCATE statement is used to remove all data from an existing table, but it does not remove the table structure. For example, the following statement removes all data from the \"employees\" table:\n",
    "\n",
    "#SQL\n",
    "TRUNCATE TABLE employees;\n",
    "\n",
    "'''\n",
    "\n"
   ]
  },
  {
   "cell_type": "code",
   "execution_count": null,
   "metadata": {},
   "outputs": [],
   "source": [
    "## 3 Answer:\n",
    "\n",
    "'''\n",
    "**DML:** DML stands for Data Manipulation Language, and it is a subset of SQL that is used to manipulate the data in a database. DML statements are used to insert, update, and delete data in a table. The following are some commonly used DML statements:\n",
    "\n",
    "1. **INSERT:** The INSERT statement is used to insert new data into a table. For example, the following statement inserts a new record into the \"employees\" table:\n",
    "\n",
    "#SQL\n",
    "INSERT INTO employees (id, name, age, salary, department)\n",
    "VALUES (1, 'John Doe', 30, 50000, 'IT');\n",
    "\n",
    "This statement adds a new employee to the \"employees\" table with an ID of 1, a name of \"John Doe\", an age of 30, a salary of 50000, and a department of \"IT\".\n",
    "\n",
    "2. **UPDATE:** The UPDATE statement is used to modify existing data in a table. For example, the following statement updates the salary of an employee with an ID of 1 in the \"employees\" table:\n",
    "\n",
    "#SQL\n",
    "UPDATE employees\n",
    "SET salary = 60000\n",
    "WHERE id = 1;\n",
    "\n",
    "This statement changes the salary of the employee with an ID of 1 to 60000.\n",
    "\n",
    "3. **DELETE:** The DELETE statement is used to remove data from a table. For example, the following statement removes an employee with an ID of 1 from the \"employees\" table:\n",
    "\n",
    "#SQL\n",
    "DELETE FROM employees\n",
    "WHERE id = 1;\n",
    "\n",
    "This statement removes the record for the employee with an ID of 1 from the \"employees\" table.\n",
    "    \n",
    "\n",
    "'''"
   ]
  },
  {
   "cell_type": "code",
   "execution_count": null,
   "metadata": {},
   "outputs": [],
   "source": [
    "## 4 Answer:\n",
    "'''\n",
    "**DQL:** DQL stands for Data Query Language, and it is a subset of SQL that is used to query and retrieve data from a database. DQL statements are used to retrieve data from one or more tables in a database. The following is a commonly used DQL statement:\n",
    "\n",
    "1. **SELECT:** The SELECT statement is used to retrieve data from one or more tables in a database. For example, the following statement retrieves all data from the \"employees\" table:\n",
    "\n",
    "#SQL\n",
    "SELECT * FROM employees;\n",
    "This statement returns all the data in the \"employees\" table, including the ID, name, age, salary, and department of each employee.\n",
    "\n",
    "You can also specify which columns you want to retrieve by listing them after the SELECT keyword. For example, the following statement retrieves only the name and salary columns from the \"employees\" table:\n",
    "\n",
    "#SQL\n",
    "SELECT name, salary FROM employees;\n",
    "This statement returns only the name and salary data for each employee in the \"employees\" table.\n",
    "\n",
    "You can use various clauses and operators to filter and sort the data retrieved by the SELECT statement. For example, the WHERE clause is used to specify a condition that the retrieved data must meet. The following statement retrieves only the data for employees with a salary greater than 50000:\n",
    "\n",
    "#SQL\n",
    "SELECT * FROM employees\n",
    "WHERE salary > 50000;\n",
    "\n",
    "This statement returns only the data for employees with a salary greater than 50000.\n",
    "''' \n",
    "\n",
    "\n",
    "\n"
   ]
  },
  {
   "cell_type": "code",
   "execution_count": null,
   "metadata": {},
   "outputs": [],
   "source": [
    "## 5 Answer:\n",
    "'''\n",
    "**Primary Key:** A Primary Key is a column or a set of columns in a table that uniquely identifies each row in the table. The primary key constraint ensures that the primary key value for each row in a table is unique and cannot be null. By using primary keys, you can establish relationships between tables and ensure data consistency across the database. For example, a table of students might have a primary key of \"student_id\", where each student has a unique identifier, and this key is used to link data in other tables.\n",
    "\n",
    "**Foreign Key:** A Foreign Key is a column or a set of columns in one table that refers to the primary key of another table. A foreign key constraint is used to ensure that the data in the foreign key column is consistent with the data in the primary key column of the related table. By using foreign keys, you can establish relationships between tables, which is a fundamental aspect of a relational database. For example, a table of courses might have a foreign key \"instructor_id\" that refers to the primary key \"instructor_id\" in a table of instructors. This foreign key constraint ensures that the instructor ID value in the \"courses\" table corresponds to an existing instructor in the \"instructors\" table.\n",
    "\n",
    "In summary, a primary key is used to uniquely identify each row in a table, while a foreign key is used to establish relationships between tables by referencing the primary key of another table. Primary and foreign keys are essential for maintaining data consistency and integrity in a relational database.\n",
    "\n",
    "'''\n",
    "\n"
   ]
  },
  {
   "cell_type": "code",
   "execution_count": null,
   "metadata": {},
   "outputs": [],
   "source": [
    "#6 ans\n",
    "\n",
    "\n",
    "import mysql.connector\n",
    "\n",
    "# create a connection to a MySQL database\n",
    "mydb = mysql.connector.connect(\n",
    "  host=\"localhost\",\n",
    "  user=\"abc\",\n",
    "  password=\"password\"\n",
    ")\n",
    "\n",
    "# create a cursor object\n",
    "mycursor = mydb.cursor()\n",
    "\n",
    "# execute a SELECT statement using the cursor object\n",
    "mycursor.execute('SELECT * FROM employees')\n",
    "\n",
    "# iterate through the rows returned by the query\n",
    "for row in mycursor:\n",
    "    print(row)\n",
    "\n",
    "# execute an INSERT statement using the cursor object\n",
    "mycursor.execute('INSERT INTO employees (name, age, salary) VALUES (\"John Doe\", 30, 50000)')\n",
    "\n",
    "# commit the changes to the database\n",
    "mydb.commit()\n"
   ]
  },
  {
   "cell_type": "code",
   "execution_count": null,
   "metadata": {},
   "outputs": [],
   "source": [
    "#7 ANS\n",
    "'''\n",
    "    In an SQL query, the order of execution of SQL clauses is as follows:\n",
    "\n",
    "1. **FROM:** This clause specifies the table or tables from which the data will be selected.\n",
    "2. **JOIN:** This clause is used to combine rows from two or more tables based on a related column between them.\n",
    "3. **WHERE:** This clause is used to filter rows based on a specified condition.\n",
    "4. **GROUP BY:** This clause is used to group the selected rows based on one or more columns.\n",
    "5. **HAVING:** This clause is used to filter groups based on a specified condition.\n",
    "6. **SELECT:** This clause is used to select the columns to include in the result set.\n",
    "7. **DISTINCT:** This clause is used to remove duplicates from the result set.\n",
    "8. **ORDER BY:** This clause is used to sort the result set based on one or more columns.\n",
    "9. **LIMIT:** This clause is used to limit the number of rows returned in the result set.\n",
    "'''"
   ]
  }
 ],
 "metadata": {
  "kernelspec": {
   "display_name": "Python 3",
   "language": "python",
   "name": "python3"
  },
  "language_info": {
   "codemirror_mode": {
    "name": "ipython",
    "version": 3
   },
   "file_extension": ".py",
   "mimetype": "text/x-python",
   "name": "python",
   "nbconvert_exporter": "python",
   "pygments_lexer": "ipython3",
   "version": "3.11.1"
  },
  "orig_nbformat": 4
 },
 "nbformat": 4,
 "nbformat_minor": 2
}
