{
 "cells": [
  {
   "cell_type": "code",
   "execution_count": 2,
   "metadata": {},
   "outputs": [
    {
     "data": {
      "text/plain": [
       "1"
      ]
     },
     "execution_count": 2,
     "metadata": {},
     "output_type": "execute_result"
    }
   ],
   "source": [
    "''' \n",
    "1\n",
    "*Classes* in Python provide a blueprint for creating objects (data structures), providing initial values for state (member variables or attributes), and implementations of behavior (member functions or methods).\n",
    "Classes are a way to organize code and encapsulate data and functions that operate on that data within objects.\n",
    "\n",
    "An *object* is an instance of a class. Objects are created from class templates and store their own state, which is stored in attributes, and implement behavior, which is provided by methods. The state and behavior of an object can be manipulated through method calls.\n",
    "'''\n",
    "\n",
    "class point():\n",
    "    def __init__(self,x,y):\n",
    "        self.x = x\n",
    "        self.y = y\n",
    "\n",
    "p1 = point(1,2)\n",
    "p2 = point(3,4)\n",
    "\n",
    "p1.x"
   ]
  },
  {
   "cell_type": "code",
   "execution_count": 3,
   "metadata": {},
   "outputs": [
    {
     "data": {
      "text/plain": [
       "'\\n2\\n\\nThe four pillars of OOPS are:\\n1. Inheritance\\n2. Polymorphism\\n3. Encapsulation, and\\n4. Abstraction\\n\\n'"
      ]
     },
     "execution_count": 3,
     "metadata": {},
     "output_type": "execute_result"
    }
   ],
   "source": [
    "'''\n",
    "2\n",
    "\n",
    "The four pillars of OOPS are:\n",
    "1. Inheritance\n",
    "2. Polymorphism\n",
    "3. Encapsulation, and\n",
    "4. Abstraction\n",
    "\n",
    "'''"
   ]
  },
  {
   "cell_type": "code",
   "execution_count": 4,
   "metadata": {},
   "outputs": [
    {
     "data": {
      "text/plain": [
       "4"
      ]
     },
     "execution_count": 4,
     "metadata": {},
     "output_type": "execute_result"
    }
   ],
   "source": [
    "'''\n",
    "The init method, also known as the constructor, is used in classes to initialize the object's state when it is created. The init method is called automatically when an object is created from the class, and it sets the initial values for the object's attributes.\n",
    "\n",
    "'''\n",
    "\n",
    "class point():\n",
    "    def __init__(self,x,y):\n",
    "        self.x = x\n",
    "        self.y = y\n",
    "\n",
    "p1 = point(1,2)\n",
    "p2 = point(3,4)\n",
    "\n",
    "p2.x\n",
    "p2.y"
   ]
  },
  {
   "cell_type": "code",
   "execution_count": 5,
   "metadata": {},
   "outputs": [
    {
     "data": {
      "text/plain": [
       "'  self parameter is used to access the attributes and methods of the current object, and it must be included as the first parameter in every method definition within a class.\\n\\nBy using self as a parameter, you can refer to the attributes and methods of the current instance of the object within the class. This allows you to maintain the state and behavior of each object separately, even if multiple instances of the same class are created.'"
      ]
     },
     "execution_count": 5,
     "metadata": {},
     "output_type": "execute_result"
    }
   ],
   "source": [
    "#4\n",
    "'''  self parameter is used to access the attributes and methods of the current object, and it must be included as the first parameter in every method definition within a class.\n",
    "\n",
    "By using self as a parameter, you can refer to the attributes and methods of the current instance of the object within the class. This allows you to maintain the state and behavior of each object separately, even if multiple instances of the same class are created.'''\n"
   ]
  },
  {
   "cell_type": "code",
   "execution_count": 6,
   "metadata": {},
   "outputs": [
    {
     "name": "stdout",
     "output_type": "stream",
     "text": [
      "This line is of the parent class\n",
      "This line is of the child class\n",
      "Hello there!\n",
      "Hello there again!\n",
      "Bye bye!\n"
     ]
    }
   ],
   "source": [
    "#5\n",
    "#Inheritance is a fundamental concept in Object-Oriented Programming (OOP) that allows a new class to be derived from an existing class.\n",
    "\n",
    "#single\n",
    "class A:\n",
    "    def display(self):\n",
    "        print(\"This line is of the parent class\")\n",
    "        \n",
    "class B(A):\n",
    "    def display(self):\n",
    "        super().display()\n",
    "        print(\"This line is of the child class\")\n",
    "    \n",
    "obj_1= B()\n",
    "obj_1.display()\n",
    "\n",
    "#multiple\n",
    "class A:\n",
    "    def hello(self):\n",
    "        print(\"Hello there!\")\n",
    "\n",
    "class B:\n",
    "    def hello_again(self):\n",
    "        print(\"Hello there again!\")\n",
    "\n",
    "class C(A,B):\n",
    "    def hello_and_bye(self):\n",
    "        super().hello()\n",
    "        super().hello_again()\n",
    "        print(\"Bye bye!\")\n",
    "        \n",
    "obj_1 = C()\n",
    "obj_1.hello_and_bye()\n",
    "\n",
    "\n"
   ]
  },
  {
   "cell_type": "code",
   "execution_count": 7,
   "metadata": {},
   "outputs": [
    {
     "name": "stdout",
     "output_type": "stream",
     "text": [
      "This is the first class function\n",
      "This is the second class function, and its also inheriting from the first class\n",
      "This is the third class function, and its also inheriting from the second class\n"
     ]
    }
   ],
   "source": [
    "#multilevel\n",
    "class A:\n",
    "    def first_func(self):\n",
    "        print('This is the first class function')\n",
    "        \n",
    "class B(A):\n",
    "    def second_func(self):\n",
    "        super().first_func()\n",
    "        print('This is the second class function, and its also inheriting from the first class')\n",
    "        \n",
    "class C(B):\n",
    "    def third_func(self):\n",
    "        super().second_func()\n",
    "        print('This is the third class function, and its also inheriting from the second class')\n",
    "        \n",
    "obj_1 = C()\n",
    "obj_1.third_func()"
   ]
  },
  {
   "cell_type": "code",
   "execution_count": 8,
   "metadata": {},
   "outputs": [
    {
     "name": "stdout",
     "output_type": "stream",
     "text": [
      "This is a function from the master class\n",
      "This is a function from the assistant class, and it's inheriing from the master class\n",
      "This is a function from the master class\n",
      "This is a function from the manager class, and it's inheriting from the master calss\n"
     ]
    }
   ],
   "source": [
    "#hierarchical inheritance\n",
    "class A():\n",
    "    def master_class_func(self):\n",
    "        print(\"This is a function from the master class\")\n",
    "\n",
    "class B(A):\n",
    "    def assistant_class_func(self):\n",
    "        super().master_class_func()\n",
    "        print(\"This is a function from the assistant class, and it's inheriing from the master class\")\n",
    "        \n",
    "class C(A):\n",
    "    def manager_class_func(self):\n",
    "        super().master_class_func()\n",
    "        print(\"This is a function from the manager class, and it's inheriting from the master calss\")\n",
    "        \n",
    "assistant_obj = B()\n",
    "manager_obj = C()\n",
    "\n",
    "assistant_obj.assistant_class_func()\n",
    "manager_obj.manager_class_func()"
   ]
  },
  {
   "cell_type": "code",
   "execution_count": 9,
   "metadata": {},
   "outputs": [
    {
     "name": "stdout",
     "output_type": "stream",
     "text": [
      "Super Parent display method\n",
      "Class C display method\n",
      "Super Parent display method\n",
      "Class D display method\n"
     ]
    }
   ],
   "source": [
    "#Hybrid \n",
    "class A:\n",
    "    def display(self):\n",
    "        print(\"Super Parent display method\")\n",
    "\n",
    "\n",
    "\"\"\" class B used as intermediate class\n",
    "to call class A's display method \"\"\"\n",
    "class B(A):\n",
    "    def display(self):\n",
    "        super().display()\n",
    "\n",
    "''' child classes '''\n",
    "class C(B):\n",
    "    def display(self):\n",
    "        super().display()\n",
    "        print(\"Class C display method\")\n",
    "        \n",
    "class D(B):\n",
    "    def display(self):\n",
    "        super().display()\n",
    "        print(\"Class D display method\")\n",
    "\n",
    "c = C()\n",
    "c.display()\n",
    "\n",
    "d = D()\n",
    "d.display()"
   ]
  },
  {
   "cell_type": "code",
   "execution_count": null,
   "metadata": {},
   "outputs": [],
   "source": []
  }
 ],
 "metadata": {
  "kernelspec": {
   "display_name": "Python 3",
   "language": "python",
   "name": "python3"
  },
  "language_info": {
   "codemirror_mode": {
    "name": "ipython",
    "version": 3
   },
   "file_extension": ".py",
   "mimetype": "text/x-python",
   "name": "python",
   "nbconvert_exporter": "python",
   "pygments_lexer": "ipython3",
   "version": "3.11.1"
  },
  "orig_nbformat": 4,
  "vscode": {
   "interpreter": {
    "hash": "11acd7882bca9225263177cf7f1a77d85f722c62499040cb9580d92def4bac97"
   }
  }
 },
 "nbformat": 4,
 "nbformat_minor": 2
}
