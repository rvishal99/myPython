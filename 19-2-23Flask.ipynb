{
 "cells": [
  {
   "cell_type": "code",
   "execution_count": null,
   "metadata": {},
   "outputs": [],
   "source": [
    "#1 ans:\n",
    "''' \n",
    "Flask is a lightweight web application framework written in Python that provides a simple and flexible way to build web applications. It is classified as a microframework because it does not require particular tools or libraries and has no database abstraction layer or form validation. Flask is designed to keep the core of the application simple and extensible, and it can be easily extended with third-party packages.\n",
    "\n",
    "Advantages:\n",
    "1. Lightweight and Flexible: Flask is a microframework and does not come with a lot of built-in functionality. This makes it lightweight and flexible, allowing developers to only use what they need and not be burdened by unnecessary features.\n",
    "\n",
    "2. Easy to Learn and Use: Flask has a small and easy-to-understand codebase, making it easy to learn and use. It has a simple API, and its documentation is comprehensive and easy to follow.\n",
    "\n",
    "3. Extensible: Flask can be easily extended using third-party packages, making it possible to add functionality to your application without having to reinvent the wheel.\n",
    "\n",
    "4. Large and Active Community: Flask has a large and active community, which means that you can find lots of tutorials, examples, and help online. This makes it easy to get started with Flask and solve problems when they arise.\n",
    "\n",
    "5. Flask is built on Python: Since Flask is built on Python, it has access to a large number of libraries and packages, making it easy to integrate with other Python libraries and frameworks.\n",
    "\n",
    "6. Customizable: Flask allows developers to create their own extensions, and it also provides various configuration options. This makes it possible to customize the framework to suit the needs of your application.\n",
    "'''"
   ]
  },
  {
   "cell_type": "code",
   "execution_count": 1,
   "metadata": {},
   "outputs": [
    {
     "name": "stdout",
     "output_type": "stream",
     "text": [
      " * Serving Flask app '__main__'\n",
      " * Debug mode: off\n"
     ]
    },
    {
     "name": "stderr",
     "output_type": "stream",
     "text": [
      "WARNING: This is a development server. Do not use it in a production deployment. Use a production WSGI server instead.\n",
      " * Running on all addresses (0.0.0.0)\n",
      " * Running on http://127.0.0.1:5000\n",
      " * Running on http://10.0.165.213:5000\n",
      "Press CTRL+C to quit\n",
      "127.0.0.1 - - [06/Mar/2023 20:39:56] \"GET / HTTP/1.1\" 200 -\n"
     ]
    }
   ],
   "source": [
    "#2 ans:\n",
    "from flask import Flask\n",
    "\n",
    "app = Flask(__name__)\n",
    "\n",
    "@app.route('/')\n",
    "def hello_world():\n",
    "    return \"<h1> Hello World!!</h1>\" \n",
    "\n",
    "if __name__==\"__main__\":\n",
    "    app.run(host=\"0.0.0.0\")"
   ]
  },
  {
   "cell_type": "code",
   "execution_count": 4,
   "metadata": {},
   "outputs": [
    {
     "name": "stderr",
     "output_type": "stream",
     "text": [
      "'[image.png]' is not recognized as an internal or external command,\n",
      "operable program or batch file.\n"
     ]
    }
   ],
   "source": []
  },
  {
   "attachments": {},
   "cell_type": "markdown",
   "metadata": {},
   "source": [
    "![new.jpg](../../Flask/new.jpg)"
   ]
  },
  {
   "cell_type": "code",
   "execution_count": null,
   "metadata": {},
   "outputs": [],
   "source": [
    "#3 ans:\n",
    "'''  \n",
    "In Flask, an app route is a URL path that a web application will respond to. It is a decorator that binds a function to a URL endpoint, which means that when a user makes a request to a specific URL, the function that is bound to that URL endpoint will be executed.\n",
    "\n",
    "App routing is an essential part of web development because it enables a web application to serve different content for different URLs. Using app routes, you can define the URLs that your application will respond to and the functions that will be executed in response to those URLs. This makes it possible to create dynamic, interactive web applications that respond to user input and deliver personalized content.\n",
    "'''"
   ]
  },
  {
   "cell_type": "markdown",
   "metadata": {},
   "source": []
  },
  {
   "cell_type": "code",
   "execution_count": 5,
   "metadata": {},
   "outputs": [
    {
     "name": "stdout",
     "output_type": "stream",
     "text": [
      " * Serving Flask app '__main__'\n",
      " * Debug mode: off\n"
     ]
    },
    {
     "name": "stderr",
     "output_type": "stream",
     "text": [
      "WARNING: This is a development server. Do not use it in a production deployment. Use a production WSGI server instead.\n",
      " * Running on all addresses (0.0.0.0)\n",
      " * Running on http://127.0.0.1:5000\n",
      " * Running on http://10.0.165.213:5000\n",
      "Press CTRL+C to quit\n"
     ]
    }
   ],
   "source": [
    "#4 ans:\n",
    "from flask import Flask\n",
    "\n",
    "app = Flask(__name__)\n",
    "\n",
    "@app.route('/')\n",
    "def hello_world():\n",
    "    return \"<p>Company Name: ABC Corporation</p><p>Location: India</p><p>Contact Detail: 999-999-9999</p>\"\n",
    "\n",
    "@app.route('/welcome')\n",
    "def welcome():\n",
    "    return \"Welcome to ABC Corporation\"\n",
    "\n",
    "if __name__==\"__main__\":\n",
    "    app.run(host=\"0.0.0.0\")"
   ]
  },
  {
   "cell_type": "code",
   "execution_count": 6,
   "metadata": {},
   "outputs": [
    {
     "name": "stdout",
     "output_type": "stream",
     "text": [
      "/welcome\n",
      " * Serving Flask app '__main__'\n",
      " * Debug mode: off\n"
     ]
    },
    {
     "name": "stderr",
     "output_type": "stream",
     "text": [
      "WARNING: This is a development server. Do not use it in a production deployment. Use a production WSGI server instead.\n",
      " * Running on all addresses (0.0.0.0)\n",
      " * Running on http://127.0.0.1:5000\n",
      " * Running on http://10.0.165.213:5000\n",
      "Press CTRL+C to quit\n",
      "127.0.0.1 - - [06/Mar/2023 20:51:50] \"GET / HTTP/1.1\" 200 -\n",
      "127.0.0.1 - - [06/Mar/2023 20:51:55] \"GET /welcome HTTP/1.1\" 200 -\n"
     ]
    }
   ],
   "source": [
    "#5 ans:\n",
    "from flask import Flask\n",
    "from flask import url_for\n",
    "\n",
    "app = Flask(__name__)\n",
    "\n",
    "@app.route('/')\n",
    "def hello_world():\n",
    "    return \"<p>Company Name: ABC Corporation</p><p>Location: India</p><p>Contact Detail: 999-999-9999</p>\"\n",
    "\n",
    "@app.route('/welcome')\n",
    "def welcome():\n",
    "    return \"Welcome to ABC Corporation\"\n",
    "\n",
    "with app.test_request_context():\n",
    "    print(url_for('welcome'))\n",
    "\n",
    "if __name__==\"__main__\":\n",
    "    app.run(host=\"0.0.0.0\")"
   ]
  },
  {
   "cell_type": "code",
   "execution_count": null,
   "metadata": {},
   "outputs": [],
   "source": []
  }
 ],
 "metadata": {
  "kernelspec": {
   "display_name": "Python 3",
   "language": "python",
   "name": "python3"
  },
  "language_info": {
   "codemirror_mode": {
    "name": "ipython",
    "version": 3
   },
   "file_extension": ".py",
   "mimetype": "text/x-python",
   "name": "python",
   "nbconvert_exporter": "python",
   "pygments_lexer": "ipython3",
   "version": "3.11.1"
  },
  "orig_nbformat": 4
 },
 "nbformat": 4,
 "nbformat_minor": 2
}
