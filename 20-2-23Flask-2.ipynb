{
 "cells": [
  {
   "cell_type": "code",
   "execution_count": null,
   "metadata": {},
   "outputs": [],
   "source": [
    "#1 ans:\n",
    "'''\n",
    "GET and POST are two of the most commonly used methods in HTTP, the protocol used to transfer data over the web. Both methods are used to submit data to a server, but they differ in how the data is sent and the purpose they serve.\n",
    "\n",
    "GET Method:\n",
    "The GET method is used to retrieve data from a server. When you enter a URL in your web browser's address bar and hit enter, the browser sends a GET request to the server, which then responds with the requested data. The data is usually in the form of a web page, an image, or some other type of resource that can be displayed by the browser. GET requests can include query parameters in the URL, which are used to specify the data to retrieve. Because GET requests are used to retrieve data, they should not have any side effects on the server, such as modifying data or performing an action.\n",
    "\n",
    "POST Method:\n",
    "The POST method is used to submit data to a server to be processed. When you submit a form on a website, for example, the data is sent to the server using a POST request. The data is sent in the body of the request, which means that it is not visible in the URL. POST requests can include a much larger amount of data than GET requests, which makes them useful for submitting forms or uploading files. Unlike GET requests, POST requests can have side effects on the server, such as modifying data or performing an action.\n",
    "'''\n"
   ]
  },
  {
   "cell_type": "code",
   "execution_count": null,
   "metadata": {},
   "outputs": [],
   "source": [
    "#2 ans:\n",
    "'''\n",
    "In Flask, the request object is used to access data that a client sends to a server as part of an HTTP request. It provides a way for the server-side code to access the data submitted by the client, such as form data, query parameters, and file uploads.\n",
    "\n",
    "The request object is an instance of the Request class and is automatically created by Flask when a request is received. The object contains a variety of useful attributes and methods that allow you to access different parts of the request data. \n",
    "\n",
    "By using the request object in your Flask application, you can easily access the data submitted by the client and use it to generate a response. For example, you can use the data submitted in a form to process a user's request, or you can use the query parameters in a URL to return different results based on the user's input.\n",
    "\n",
    "'''"
   ]
  },
  {
   "cell_type": "code",
   "execution_count": null,
   "metadata": {},
   "outputs": [],
   "source": [
    "#3 ans:\n",
    "'''\n",
    "The redirect() function in Flask is used to redirect a client's request to a different URL. It is a convenient way to redirect a user to a different page after they have submitted a form or performed some other action on your website.\n",
    "\n",
    "The redirect() function returns a response object that instructs the client to make a new request to the specified URL. The client's web browser will automatically follow this redirect and display the new page to the user. \n",
    "'''"
   ]
  },
  {
   "cell_type": "code",
   "execution_count": null,
   "metadata": {},
   "outputs": [],
   "source": [
    "#4 ans:\n",
    "'''\n",
    "Templates: Templates in Flask are files that contain HTML and other dynamic content, which can be used to generate web pages. Templates allow you to separate your application logic from your presentation logic, making your code more organized and easier to maintain.\n",
    "\n",
    "Flask uses the Jinja2 templating engine, which allows you to include variables, loops, conditionals, and other dynamic elements in your templates. When a Flask route function generates a response, it can use a template to generate the HTML content of the response.\n",
    "\n",
    "render_template(): The render_template() function in Flask is used to render a template and generate the HTML content of a response. The function takes the name of a template file as its first argument, followed by any number of keyword arguments that will be used as variables in the template.\n",
    "'''"
   ]
  },
  {
   "attachments": {},
   "cell_type": "markdown",
   "metadata": {},
   "source": []
  },
  {
   "attachments": {},
   "cell_type": "markdown",
   "metadata": {},
   "source": [
    "#5:\n",
    "\n",
    "<img src=\"hello.jpg\" width=500px height=500px>"
   ]
  },
  {
   "cell_type": "markdown",
   "metadata": {},
   "source": []
  }
 ],
 "metadata": {
  "language_info": {
   "name": "python"
  },
  "orig_nbformat": 4
 },
 "nbformat": 4,
 "nbformat_minor": 2
}
