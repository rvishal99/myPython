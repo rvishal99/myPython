{
 "cells": [
  {
   "cell_type": "code",
   "execution_count": 1,
   "metadata": {},
   "outputs": [
    {
     "data": {
      "text/plain": [
       "[1, 3, 5, 7, 9, 11, 13, 15, 17, 19, 21, 23, 25]"
      ]
     },
     "execution_count": 1,
     "metadata": {},
     "output_type": "execute_result"
    }
   ],
   "source": [
    "#1 def keyword is used to create a function\n",
    "\n",
    "def func():\n",
    "    return [i for i in range(1,26) if i%2!=0 ]\n",
    "\n",
    "lst = func()\n",
    "lst\n"
   ]
  },
  {
   "cell_type": "code",
   "execution_count": 4,
   "metadata": {},
   "outputs": [
    {
     "name": "stdout",
     "output_type": "stream",
     "text": [
      "120\n",
      "120\n"
     ]
    }
   ],
   "source": [
    "#2 *args allows us to pass a variable number of non-keyword arguments to a function.\n",
    "# **kwargs allows us to pass any number of keyword arguments.\n",
    "\n",
    "def func(*args):\n",
    "    ans = 1\n",
    "    for i in args:\n",
    "        ans *= i\n",
    "    return ans\n",
    "\n",
    "print(func(5,3,4,2,1))\n",
    "\n",
    "\n",
    "def func2(**kwargs):\n",
    "    ans = 1\n",
    "    for i in kwargs.values():\n",
    "        ans*= i\n",
    "    return ans\n",
    "\n",
    "print(func2(one=1,two=2,three=3,four = 4,five = 5))"
   ]
  },
  {
   "cell_type": "code",
   "execution_count": 7,
   "metadata": {},
   "outputs": [
    {
     "name": "stdout",
     "output_type": "stream",
     "text": [
      "2\n",
      "4\n",
      "6\n",
      "8\n",
      "10\n"
     ]
    }
   ],
   "source": [
    "#3 An iterator is an object that contains a countable number of values.\n",
    "\n",
    "lst = [2,4,6,8,10,12,14,16,20]\n",
    "i = 0\n",
    "it = iter(lst)\n",
    "\n",
    "while i<5:\n",
    "    print(next(it))\n",
    "    i+=1"
   ]
  },
  {
   "cell_type": "code",
   "execution_count": null,
   "metadata": {},
   "outputs": [],
   "source": []
  },
  {
   "cell_type": "code",
   "execution_count": 9,
   "metadata": {},
   "outputs": [
    {
     "name": "stdout",
     "output_type": "stream",
     "text": [
      "10\n",
      "20\n",
      "30\n",
      "40\n",
      "50\n",
      "60\n",
      "70\n",
      "80\n",
      "90\n"
     ]
    }
   ],
   "source": [
    "#4 generator is a function that returns an iterator that produces a sequence of values when iterated over.\n",
    "\n",
    "#yield is used to create generator func.A type of function that is memory efficient and can be used like an iterator object. \n",
    "\n",
    "\n",
    "def genn():\n",
    "    lst = list(range(1,100))\n",
    "\n",
    "    for i in lst:\n",
    "        if i%10==0:\n",
    "            yield i\n",
    "\n",
    "for i in genn():\n",
    "    print(i)"
   ]
  },
  {
   "cell_type": "code",
   "execution_count": 17,
   "metadata": {},
   "outputs": [
    {
     "name": "stdout",
     "output_type": "stream",
     "text": [
      "2\n",
      "3\n",
      "5\n",
      "7\n",
      "11\n",
      "13\n",
      "17\n",
      "19\n",
      "23\n",
      "29\n",
      "31\n",
      "37\n",
      "41\n",
      "43\n",
      "47\n",
      "53\n",
      "59\n",
      "61\n",
      "67\n",
      "71\n"
     ]
    }
   ],
   "source": [
    "#5 \n",
    "def prime():\n",
    "    lst = []\n",
    "    for i in range(2,1000):\n",
    "        for j in lst:\n",
    "            if i%j==0:\n",
    "                break\n",
    "    \n",
    "        else:\n",
    "            lst.append(i)\n",
    "            yield i\n",
    "\n",
    "primee = prime()\n",
    "for i in range(1,21):\n",
    "    print(next(primee))"
   ]
  },
  {
   "cell_type": "code",
   "execution_count": 19,
   "metadata": {},
   "outputs": [
    {
     "name": "stdout",
     "output_type": "stream",
     "text": [
      "0\n",
      "1\n",
      "1\n",
      "2\n",
      "3\n",
      "5\n",
      "8\n",
      "13\n",
      "21\n",
      "34\n"
     ]
    }
   ],
   "source": [
    "#6\n",
    "a,b = 0,1\n",
    "\n",
    "for i in range(10):\n",
    "    print(a)\n",
    "    c = a+b\n",
    "    a = b\n",
    "    b = c"
   ]
  },
  {
   "cell_type": "code",
   "execution_count": 23,
   "metadata": {},
   "outputs": [
    {
     "data": {
      "text/plain": [
       "['p', 'w', 's', 'k', 'i', 'l', 'l', 's']"
      ]
     },
     "execution_count": 23,
     "metadata": {},
     "output_type": "execute_result"
    }
   ],
   "source": [
    "#7\n",
    "strr = \"pwskills\"\n",
    "\n",
    "result = list(strr)\n",
    "result"
   ]
  },
  {
   "cell_type": "code",
   "execution_count": 25,
   "metadata": {},
   "outputs": [
    {
     "name": "stdout",
     "output_type": "stream",
     "text": [
      "Palindrome!\n",
      "Palindrome!\n"
     ]
    }
   ],
   "source": [
    "#8 using string slicing\n",
    "number = int(input('Enter a number: '))\n",
    "\n",
    "reversed_num = str(number)[::-1]\n",
    "if int(reversed_num) == number:\n",
    "    print('Palindrome!')\n",
    "else:\n",
    "    print('Not Palindrome!')\n",
    "\n",
    "# Using while loop\n",
    "num=int(input('Enter any number: '))\n",
    "temp=num\n",
    "rev=0\n",
    "while(num>0):\n",
    "    dig=num%10\n",
    "    rev=rev*10+dig\n",
    "    num=num//10\n",
    "if(temp==rev):\n",
    "    print('Palindrome!')\n",
    "else:\n",
    "    print('Not a palindrome!')"
   ]
  },
  {
   "cell_type": "code",
   "execution_count": 28,
   "metadata": {},
   "outputs": [
    {
     "data": {
      "text/plain": [
       "[1,\n",
       " 3,\n",
       " 5,\n",
       " 7,\n",
       " 9,\n",
       " 11,\n",
       " 13,\n",
       " 15,\n",
       " 17,\n",
       " 19,\n",
       " 21,\n",
       " 23,\n",
       " 25,\n",
       " 27,\n",
       " 29,\n",
       " 31,\n",
       " 33,\n",
       " 35,\n",
       " 37,\n",
       " 39,\n",
       " 41,\n",
       " 43,\n",
       " 45,\n",
       " 47,\n",
       " 49,\n",
       " 51,\n",
       " 53,\n",
       " 55,\n",
       " 57,\n",
       " 59,\n",
       " 61,\n",
       " 63,\n",
       " 65,\n",
       " 67,\n",
       " 69,\n",
       " 71,\n",
       " 73,\n",
       " 75,\n",
       " 77,\n",
       " 79,\n",
       " 81,\n",
       " 83,\n",
       " 85,\n",
       " 87,\n",
       " 89,\n",
       " 91,\n",
       " 93,\n",
       " 95,\n",
       " 97,\n",
       " 99]"
      ]
     },
     "execution_count": 28,
     "metadata": {},
     "output_type": "execute_result"
    }
   ],
   "source": [
    "#9\n",
    "oddLst = [ i for i in range(1,101) if i%2!=0]\n",
    "oddLst"
   ]
  },
  {
   "cell_type": "code",
   "execution_count": null,
   "metadata": {},
   "outputs": [],
   "source": []
  }
 ],
 "metadata": {
  "kernelspec": {
   "display_name": "Python 3",
   "language": "python",
   "name": "python3"
  },
  "language_info": {
   "codemirror_mode": {
    "name": "ipython",
    "version": 3
   },
   "file_extension": ".py",
   "mimetype": "text/x-python",
   "name": "python",
   "nbconvert_exporter": "python",
   "pygments_lexer": "ipython3",
   "version": "3.11.1"
  },
  "orig_nbformat": 4,
  "vscode": {
   "interpreter": {
    "hash": "11acd7882bca9225263177cf7f1a77d85f722c62499040cb9580d92def4bac97"
   }
  }
 },
 "nbformat": 4,
 "nbformat_minor": 2
}
