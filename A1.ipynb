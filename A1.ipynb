{
 "cells": [
  {
   "cell_type": "code",
   "execution_count": 1,
   "metadata": {},
   "outputs": [
    {
     "name": "stdout",
     "output_type": "stream",
     "text": [
      "1\n",
      "2\n",
      "3\n",
      "4\n",
      "5\n",
      "6\n",
      "7\n",
      "8\n",
      "9\n",
      "10\n",
      "10\n",
      "9\n",
      "8\n",
      "7\n",
      "6\n",
      "5\n",
      "4\n",
      "3\n",
      "2\n",
      "1\n"
     ]
    }
   ],
   "source": [
    "for i in range(10):\n",
    "    print(i+1)\n",
    "\n",
    "\n",
    "num = 10\n",
    "while num>0:\n",
    "    print(num)\n",
    "    num-=1"
   ]
  },
  {
   "cell_type": "code",
   "execution_count": 2,
   "metadata": {},
   "outputs": [
    {
     "name": "stdout",
     "output_type": "stream",
     "text": [
      "55\n",
      "55\n"
     ]
    }
   ],
   "source": [
    "num = 10\n",
    "forSum = 0\n",
    "for i in range(num,0,-1):\n",
    "    forSum += num\n",
    "    num-=1\n",
    "\n",
    "\n",
    "print(forSum)\n",
    "\n",
    "\n",
    "\n",
    "#? Using While loop\n",
    "num = 10\n",
    "whileSum = 0\n",
    "\n",
    "\n",
    "while num>0:\n",
    "    whileSum += num\n",
    "    num-=1\n",
    "\n",
    "\n",
    "print(whileSum)"
   ]
  },
  {
   "cell_type": "code",
   "execution_count": 5,
   "metadata": {},
   "outputs": [
    {
     "name": "stdout",
     "output_type": "stream",
     "text": [
      "2250.0\n"
     ]
    }
   ],
   "source": [
    "totalUserUnit = int(input(\"Enter electricity unit consumed by user: \"))\n",
    "cost = 0\n",
    "\n",
    "if totalUserUnit>300:\n",
    "        cost = 100*4.5 + 100*6 + 100*10 + (totalUserUnit-300)*20\n",
    "elif totalUserUnit>200 and totalUserUnit<=300:\n",
    "        cost  = 100*4.5 + 100*6 + (totalUserUnit-200)*10\n",
    "   \n",
    "elif totalUserUnit>100 and totalUserUnit<=200:\n",
    "        cost = 100*4.5 + (totalUserUnit-200)*6\n",
    "\n",
    "\n",
    "elif totalUserUnit<=100:\n",
    "        cost =  100 *4.5    \n",
    "\n",
    "\n",
    "print(cost)"
   ]
  },
  {
   "cell_type": "code",
   "execution_count": 6,
   "metadata": {},
   "outputs": [
    {
     "name": "stdout",
     "output_type": "stream",
     "text": [
      "[8, 64, 125, 216, 512, 1000, 1728, 2744, 3375, 4096, 5832, 8000, 10648, 13824, 15625, 17576, 21952, 27000, 32768, 39304, 42875, 46656, 54872, 64000, 74088, 85184, 91125, 97336, 110592, 125000, 140608, 157464, 166375, 175616, 195112, 216000, 238328, 262144, 274625, 287496, 314432, 343000, 373248, 405224, 421875, 438976, 474552, 512000, 551368, 592704, 614125, 636056, 681472, 729000, 778688, 830584, 857375, 884736, 941192, 1000000]\n"
     ]
    }
   ],
   "source": [
    "lst = []\n",
    "\n",
    "\n",
    "for i in range(0,100):\n",
    "    lst.append(i+1)\n",
    "\n",
    "\n",
    "for i in range(0,100):\n",
    "    lst[i] = lst[i]**3\n",
    "\n",
    "\n",
    "lst2 = []\n",
    "for i in range(0,100):\n",
    "    if lst[i]%4==0 or lst[i]%5==0 :\n",
    "        lst2.append(lst[i])\n",
    "\n",
    "\n",
    "print(lst2)"
   ]
  },
  {
   "cell_type": "code",
   "execution_count": 7,
   "metadata": {},
   "outputs": [
    {
     "name": "stdout",
     "output_type": "stream",
     "text": [
      "12\n"
     ]
    }
   ],
   "source": [
    "string = \"I want to become a data scientist\"\n",
    "\n",
    "lst = ['a','e','i','o','u']\n",
    "counter = 0\n",
    "string = string.lower()\n",
    "for i in lst:\n",
    "    for j in string:\n",
    "        if i==j:\n",
    "            counter+=1\n",
    "\n",
    "print(counter)"
   ]
  },
  {
   "cell_type": "code",
   "execution_count": null,
   "metadata": {},
   "outputs": [],
   "source": []
  }
 ],
 "metadata": {
  "kernelspec": {
   "display_name": "Python 3",
   "language": "python",
   "name": "python3"
  },
  "language_info": {
   "codemirror_mode": {
    "name": "ipython",
    "version": 3
   },
   "file_extension": ".py",
   "mimetype": "text/x-python",
   "name": "python",
   "nbconvert_exporter": "python",
   "pygments_lexer": "ipython3",
   "version": "3.11.1"
  },
  "orig_nbformat": 4,
  "vscode": {
   "interpreter": {
    "hash": "11acd7882bca9225263177cf7f1a77d85f722c62499040cb9580d92def4bac97"
   }
  }
 },
 "nbformat": 4,
 "nbformat_minor": 2
}
